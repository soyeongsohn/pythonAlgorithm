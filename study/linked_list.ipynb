{
  "nbformat": 4,
  "nbformat_minor": 0,
  "metadata": {
    "colab": {
      "provenance": []
    },
    "kernelspec": {
      "name": "python3",
      "display_name": "Python 3"
    },
    "language_info": {
      "name": "python"
    }
  },
  "cells": [
    {
      "cell_type": "markdown",
      "source": [
        "# Linked List\n",
        "![image.png](data:image/png;base64,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)\n",
        "\n",
        "- 각 노드가 한 줄로 연결되어 있는 자료구조\n",
        "- 각 노드는 `(데이터, 포인터)` 형태를 가짐\n",
        "- 포인터는 다음 노드의 메모리 주소를 가리킴\n",
        "- 연결 리스트를 사용하여 다양한 자료구조를 만들 수 있음!\n",
        "- 일반적인 배열은 삭제 시 $O(N)$ 만큼 소요되는 반면 연결 리스트는 $O(1)$만큼 소요됨(삭제할 위치를 알고 있는 경우)\n",
        "\n"
      ],
      "metadata": {
        "id": "ax9IjurhgkQh"
      }
    },
    {
      "cell_type": "code",
      "execution_count": null,
      "metadata": {
        "id": "UmGxPgQCgidV"
      },
      "outputs": [],
      "source": [
        "class Node:\n",
        "    def __init__(self, data):\n",
        "        self.data = data # 담고자 하는 데이터\n",
        "        self.next = None # 포인터\n",
        "\n",
        "class LinkedList:\n",
        "    def __init__(self):\n",
        "        self.head = None\n",
        "    \n",
        "    def append(self, data): # 가장 뒤에 노드 삽입\n",
        "        # 헤드가 비어있는 경우\n",
        "        if self.head is None:\n",
        "            self.head = Node(data)\n",
        "            return None\n",
        "        # 마지막 위치에 새로운 노드 추가\n",
        "        cur = self.head\n",
        "        while cur.next is not None: # 마지막 노드 찾기\n",
        "            cur = cur.next\n",
        "        cur.next = Node(data)\n",
        "    \n",
        "    def show(self): # 모든 노드를 하나씩 출력\n",
        "        cur = self.head\n",
        "\n",
        "        while cur is not None:\n",
        "            print(cur.data, end=\" \")\n",
        "            cur = cur.next\n",
        "    \n",
        "    def search(self, index): # 특정 인덱스의 노드 찾기\n",
        "        node = self.head\n",
        "        for _ in range(index):\n",
        "            node = node.next\n",
        "\n",
        "        return node\n",
        "    \n",
        "    def insert(self, index, data): # 특정 인덱스에 노드 삽입\n",
        "        new = Node(data)\n",
        "        if index == 0: # 맨 앞에 추가하는 경우\n",
        "            new.next = self.head\n",
        "            self.head = new\n",
        "            return None\n",
        "        # 삽입할 위치의 앞 노드\n",
        "        node = self.search(index-1)\n",
        "        next = node.next # 삽입할 위치의 다음 노드에\n",
        "        node.next = new # 새로운 노드 삽입하고\n",
        "        new.next = next  # 그 다음 노드를 새로운 노드의 다음으로 바꿔주기\n",
        "\n",
        "    def remove(self, index): # 특정 인덱스의 노드 삭제\n",
        "        if index == 0: # 맨 앞을 삭제하는 경우\n",
        "            self.head = self.head.next # 기존 헤드의 다음 노드를 헤드로\n",
        "            return None\n",
        "        # 삭제할 위치의 앞 노드\n",
        "        front = self.search(index - 1)\n",
        "        front.next = front.next.next"
      ]
    },
    {
      "cell_type": "code",
      "source": [
        "# 확인\n",
        "linked_list = LinkedList()\n",
        "data = [1, 2, 3, 4, 5]\n",
        "\n",
        "for d in data:\n",
        "    linked_list.append(d)\n",
        "\n",
        "print(\"전체 노드 출력: \", end=\" \")\n",
        "linked_list.show()\n",
        "\n",
        "linked_list.insert(3, 6)\n",
        "print(\"\\n전체 노드 출력: \", end=\" \")\n",
        "linked_list.show()\n",
        "\n",
        "linked_list.remove(0)\n",
        "print(\"\\n전체 노드 출력: \", end=\" \")\n",
        "linked_list.show()\n",
        "\n",
        "linked_list.insert(0, 2)\n",
        "print(\"\\n전체 노드 출력: \", end=\" \")\n",
        "linked_list.show()"
      ],
      "metadata": {
        "colab": {
          "base_uri": "https://localhost:8080/"
        },
        "id": "0wY1vAaP-9iA",
        "outputId": "db4b99c5-dc80-48b5-beed-5db062673426"
      },
      "execution_count": null,
      "outputs": [
        {
          "output_type": "stream",
          "name": "stdout",
          "text": [
            "전체 노드 출력:  1 2 3 4 5 \n",
            "전체 노드 출력:  1 2 3 6 4 5 \n",
            "전체 노드 출력:  2 3 6 4 5 \n",
            "전체 노드 출력:  2 2 3 6 4 5 "
          ]
        }
      ]
    }
  ]
}