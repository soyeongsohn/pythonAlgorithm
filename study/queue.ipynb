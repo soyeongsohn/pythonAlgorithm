{
  "nbformat": 4,
  "nbformat_minor": 0,
  "metadata": {
    "colab": {
      "provenance": []
    },
    "kernelspec": {
      "name": "python3",
      "display_name": "Python 3"
    },
    "language_info": {
      "name": "python"
    }
  },
  "cells": [
    {
      "cell_type": "markdown",
      "source": [
        "# Queue\n",
        "FIFO(First in First Out) 형태의 자료 구조"
      ],
      "metadata": {
        "id": "n_8tqGyMt6L0"
      }
    },
    {
      "cell_type": "markdown",
      "source": [
        "## 연결리스트를 이용한 구현"
      ],
      "metadata": {
        "id": "yBvc-x4suBpn"
      }
    },
    {
      "cell_type": "code",
      "execution_count": null,
      "metadata": {
        "id": "Vo4AQqLwBDaW"
      },
      "outputs": [],
      "source": [
        "class Node:\n",
        "    def __init__(self, data):\n",
        "        self.data = data\n",
        "        self.next = None\n",
        "\n",
        "class Queue:\n",
        "    def __init__(self):\n",
        "        self.head = None\n",
        "        self.tail = None\n",
        "\n",
        "    def enqueue(self, data):\n",
        "        node = Node(data)\n",
        "        if self.head is None:\n",
        "            self.head = node\n",
        "            self.tail = node\n",
        "        else: # tail에 새로운 노드 삽입\n",
        "            self.tail.next = node\n",
        "            self.tail = self.tail.next\n",
        "    \n",
        "    def dequeue(self):\n",
        "        if self.head is None:\n",
        "            return None\n",
        "        data = self.head.data\n",
        "        self.head = self.head.next\n",
        "\n",
        "        return data\n",
        "    \n",
        "    def show(self):\n",
        "        cur = self.head\n",
        "        while cur:\n",
        "            print(cur.data, end=\" \")\n",
        "            cur = cur.next"
      ]
    },
    {
      "cell_type": "code",
      "source": [
        "# 테스트\n",
        "queue = Queue()\n",
        "data_list = [1, 2, 3, 4, 5]\n",
        "\n",
        "for data in data_list:\n",
        "    queue.enqueue(data)\n",
        "\n",
        "print(\"\\n전체 노드 출력:\", end=\" \")\n",
        "queue.show()\n",
        "\n",
        "print(\"\\n[원소 삭제]\")\n",
        "print(queue.dequeue())\n",
        "print(queue.dequeue())\n",
        "print(queue.dequeue())\n",
        "\n",
        "print(\"[원소 삽입]\")\n",
        "queue.enqueue(2)\n",
        "queue.enqueue(5)\n",
        "queue.enqueue(3)\n",
        "\n",
        "print(\"전체 노드 출력:\", end=\" \")\n",
        "queue.show()"
      ],
      "metadata": {
        "colab": {
          "base_uri": "https://localhost:8080/"
        },
        "id": "yQIdbtFguqEL",
        "outputId": "21fcd303-e8e9-4124-edff-f4d078d6d40a"
      },
      "execution_count": null,
      "outputs": [
        {
          "output_type": "stream",
          "name": "stdout",
          "text": [
            "\n",
            "전체 노드 출력: 1 2 3 4 5 \n",
            "[원소 삭제]\n",
            "1\n",
            "2\n",
            "3\n",
            "[원소 삽입]\n",
            "전체 노드 출력: 4 5 2 5 3 "
          ]
        }
      ]
    },
    {
      "cell_type": "markdown",
      "source": [
        "## 구현 방식에 따른 연산 속도 비교"
      ],
      "metadata": {
        "id": "lGxf3VY5vHQX"
      }
    },
    {
      "cell_type": "code",
      "source": [
        "import time\n",
        "\n",
        "data_list = [i for i in range(100000)]\n",
        "\n",
        "# 리스트 자료형으로 구현\n",
        "start_time = time.time()\n",
        "\n",
        "queue = []\n",
        "for data in data_list:\n",
        "    queue.append(data)\n",
        "while queue:\n",
        "    queue.pop(0)\n",
        "\n",
        "print(f\"Elapsed time: {time.time() - start_time} seconds.\")\n",
        "print(queue)\n",
        "\n",
        "# 연결 리스트로 구현\n",
        "start_time = time.time()\n",
        "\n",
        "queue = Queue()\n",
        "for data in data_list:\n",
        "    queue.enqueue(data)\n",
        "while queue.head != None:\n",
        "    queue.dequeue()\n",
        "\n",
        "print(f\"Elapsed time: {time.time() - start_time} seconds.\")\n",
        "queue.show()"
      ],
      "metadata": {
        "colab": {
          "base_uri": "https://localhost:8080/"
        },
        "id": "32bZnladvF-5",
        "outputId": "f9e08ff3-ca04-4378-ba15-19b80dbaf0b9"
      },
      "execution_count": null,
      "outputs": [
        {
          "output_type": "stream",
          "name": "stdout",
          "text": [
            "Elapsed time: 0.8908874988555908 seconds.\n",
            "[]\n",
            "Elapsed time: 0.2513735294342041 seconds.\n"
          ]
        }
      ]
    }
  ]
}