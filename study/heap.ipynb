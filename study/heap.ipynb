{
 "cells": [
  {
   "attachments": {},
   "cell_type": "markdown",
   "metadata": {},
   "source": [
    "# Heap\n",
    "- `우선순위 큐`(Priority Queue; 우선순위에 따라서 데이터를 추출하는 자료구조) 구현 목적으로 사용\n",
    "- 원소들 중 최댓값 혹은 최솟값을 빠르게 찾아내는 자료구조\n",
    "- `최대 힙(Max Heap)`: 값이 큰 원소부터 추출\n",
    "- `최소 힙(Min Heap)`: 값이 작은 원소부터 추출"
   ]
  },
  {
   "attachments": {},
   "cell_type": "markdown",
   "metadata": {},
   "source": []
  },
  {
   "cell_type": "code",
   "execution_count": null,
   "metadata": {},
   "outputs": [],
   "source": []
  }
 ],
 "metadata": {
  "language_info": {
   "name": "python"
  },
  "orig_nbformat": 4
 },
 "nbformat": 4,
 "nbformat_minor": 2
}
