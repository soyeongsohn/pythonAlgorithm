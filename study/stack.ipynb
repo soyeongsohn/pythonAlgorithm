{
  "cells": [
    {
      "attachments": {},
      "cell_type": "markdown",
      "metadata": {
        "id": "P5vFQcKxruRl"
      },
      "source": [
        "# Stack\n",
        "LIFO(Last in First Out) 형태의 자료 구조"
      ]
    },
    {
      "attachments": {},
      "cell_type": "markdown",
      "metadata": {
        "id": "Ec-uFAc_r1Bq"
      },
      "source": [
        "## 리스트 자료형을 이용한 구현"
      ]
    },
    {
      "cell_type": "code",
      "execution_count": null,
      "metadata": {
        "id": "RTBI9fbsBAvN"
      },
      "outputs": [],
      "source": [
        "class Stack:\n",
        "    def __init__(self):\n",
        "        self.stack = []\n",
        "    \n",
        "    def push(self, data):\n",
        "        self.stack.append(data) # 마지막 위치에 원소 삽입\n",
        "\n",
        "    def pop(self):\n",
        "        if self.is_empty():\n",
        "            return None\n",
        "            \n",
        "        return self.stack.pop() # 마지막 원소 추출\n",
        "    \n",
        "    def top(self):\n",
        "        if self.is_empty():\n",
        "            return None\n",
        "\n",
        "        return self.stack[-1] # 마지막 원소 반환\n",
        "    \n",
        "    def is_empty(self):\n",
        "\n",
        "        return len(self.stack) == 0"
      ]
    },
    {
      "cell_type": "code",
      "execution_count": null,
      "metadata": {
        "colab": {
          "base_uri": "https://localhost:8080/"
        },
        "id": "EF_KO_JTsQQp",
        "outputId": "4179fdd0-b24f-468f-e8f1-b084d1111b43"
      },
      "outputs": [
        {
          "name": "stdout",
          "output_type": "stream",
          "text": [
            "5\n",
            "4\n",
            "3\n",
            "2\n",
            "1\n"
          ]
        }
      ],
      "source": [
        "# 테스트\n",
        "stack = Stack()\n",
        "arr = [1, 2, 3, 4, 5]\n",
        "for i in arr:\n",
        "    stack.push(i)\n",
        "\n",
        "while not stack.is_empty():\n",
        "    print(stack.pop())"
      ]
    },
    {
      "attachments": {},
      "cell_type": "markdown",
      "metadata": {
        "id": "EUzsyIWJr3t6"
      },
      "source": [
        "## 연결 리스트를 이용한 구현"
      ]
    },
    {
      "cell_type": "code",
      "execution_count": null,
      "metadata": {
        "id": "OedrK0exsbwL"
      },
      "outputs": [],
      "source": [
        "class Node:\n",
        "    def __init__(self, data):\n",
        "        self.data = data\n",
        "        self.next = None\n",
        "\n",
        "class Stack:\n",
        "    def __init__(self):\n",
        "        self.head = None\n",
        "    \n",
        "    def push(self, data): # 원소 삽입\n",
        "        node = Node(data)\n",
        "        node.next = self.head # 헤드를 헤드 다음 노드로\n",
        "        self.head = node # 삽입한 데이터를 헤드로\n",
        "\n",
        "    def pop(self): # 원소 추출\n",
        "        if self.is_empty():\n",
        "            return None\n",
        "        data = self.head.data # 헤드에서 노드 꺼내기\n",
        "        self.head = self.head.next # 헤드 다음 노드를 헤드로\n",
        "\n",
        "        return data\n",
        "    \n",
        "    def top(self): # 최상위 원소\n",
        "        if self.is_empty():\n",
        "            return None\n",
        "        return self.head.data\n",
        "\n",
        "    def show(self): # 추출 순서대로 출력\n",
        "        cur = self.head\n",
        "        while cur:\n",
        "            print(cur.data, end=\" \")\n",
        "            cur = cur.next\n",
        "    \n",
        "    def is_empty(self):\n",
        "        return self.head is None"
      ]
    },
    {
      "cell_type": "code",
      "execution_count": null,
      "metadata": {
        "colab": {
          "base_uri": "https://localhost:8080/"
        },
        "id": "ilW0Pmu7sb9e",
        "outputId": "ae7afd2f-3f62-4d31-f392-12127f3c3c47"
      },
      "outputs": [
        {
          "name": "stdout",
          "output_type": "stream",
          "text": [
            "5 4 3 2 1 \n",
            "5\n",
            "4\n",
            "3\n",
            "2\n",
            "1\n"
          ]
        }
      ],
      "source": [
        "# 테스트\n",
        "stack = Stack()\n",
        "arr = [1, 2, 3, 4, 5]\n",
        "for i in arr:\n",
        "    stack.push(i)\n",
        "\n",
        "stack.show()\n",
        "\n",
        "print()\n",
        "while not stack.is_empty():\n",
        "    print(stack.pop())"
      ]
    }
  ],
  "metadata": {
    "colab": {
      "provenance": []
    },
    "kernelspec": {
      "display_name": "Python 3",
      "name": "python3"
    },
    "language_info": {
      "name": "python"
    }
  },
  "nbformat": 4,
  "nbformat_minor": 0
}
