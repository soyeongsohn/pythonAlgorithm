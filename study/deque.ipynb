{
  "nbformat": 4,
  "nbformat_minor": 0,
  "metadata": {
    "colab": {
      "provenance": []
    },
    "kernelspec": {
      "name": "python3",
      "display_name": "Python 3"
    },
    "language_info": {
      "name": "python"
    }
  },
  "cells": [
    {
      "cell_type": "markdown",
      "source": [
        "# Deque\n",
        "- stack과 queue의 기능을 모두 갖고 있음(양방향 삽입/삭제 가능)\n",
        "- 포인터 변수가 많이 필요하므로 상대적으로 더 많은 메모리 필요\n",
        "- 데이터의 삭제, 삽입에서 모두 $O(1)$의 시간 복잡도가 소요됨"
      ],
      "metadata": {
        "id": "qH-vqG_8VJ12"
      }
    },
    {
      "cell_type": "markdown",
      "source": [
        "## 파이썬 라이브러리를 이용한 구현"
      ],
      "metadata": {
        "id": "ZLnnMgb5VZrP"
      }
    },
    {
      "cell_type": "code",
      "execution_count": null,
      "metadata": {
        "id": "YXX5Q1XfBGDI",
        "colab": {
          "base_uri": "https://localhost:8080/"
        },
        "outputId": "d58f1c87-423a-4e45-a0e4-c2bc53e425ce"
      },
      "outputs": [
        {
          "output_type": "stream",
          "name": "stdout",
          "text": [
            "deque([1, 2, 3, 4, 5, 6, 7, 8])\n",
            "1\n",
            "2\n",
            "3\n",
            "4\n",
            "5\n",
            "6\n",
            "7\n",
            "8\n",
            "deque([8, 7, 6, 5, 4, 3, 2, 1])\n",
            "1\n",
            "8\n",
            "2\n",
            "7\n",
            "3\n",
            "6\n",
            "4\n",
            "5\n"
          ]
        }
      ],
      "source": [
        "from collections import deque\n",
        "\n",
        "\n",
        "d = deque()\n",
        "arr = [5, 6, 7, 8]\n",
        "for x in arr:\n",
        "    d.append(x)\n",
        "\n",
        "arr = [4, 3, 2, 1]\n",
        "for x in arr:\n",
        "    d.appendleft(x)\n",
        "    \n",
        "print(d)\n",
        "\n",
        "while d:\n",
        "    print(d.popleft())\n",
        "\n",
        "arr = [1, 2, 3, 4, 5, 6, 7, 8]\n",
        "for x in arr:\n",
        "    d.appendleft(x)\n",
        "print(d)\n",
        "\n",
        "while True:\n",
        "    print(d.pop())\n",
        "    if not d:\n",
        "        break\n",
        "    print(d.popleft())\n",
        "    if not d:\n",
        "        break"
      ]
    },
    {
      "cell_type": "markdown",
      "source": [
        "## 연결 리스트를 이용한 구현"
      ],
      "metadata": {
        "id": "rVF-JWW5V0-I"
      }
    },
    {
      "cell_type": "code",
      "source": [
        "class Node:\n",
        "    def __init__(self, data):\n",
        "        self.data = data\n",
        "        self.prev = None\n",
        "        self.next = None\n",
        "\n",
        "class Deque:\n",
        "    def __init__(self):\n",
        "        self.front = None\n",
        "        self.rear = None\n",
        "        self.size = 0\n",
        "    \n",
        "    def appendleft(self, data):\n",
        "        node = Node(data)\n",
        "        if self.front is None:\n",
        "            self.front = node\n",
        "            self.rear = node\n",
        "        else:\n",
        "            node.next = self.front # 기존 front 노드를 다음 노드로 가리키고\n",
        "            self.front.prev = node # 기존 front 노드의 이전 노드로 삽입할 노드를 가리키고\n",
        "            self.front = node # 삽입할 노드를 front로 지정한다\n",
        "        self.size += 1\n",
        "    \n",
        "    def append(self, data): # appendleft와 대칭적인 구조\n",
        "        node = Node(data)\n",
        "        if self.rear is None:\n",
        "            self.front = node\n",
        "            self.rear = node\n",
        "        else:\n",
        "            node.prev = self.rear\n",
        "            self.rear.next = node\n",
        "            self.rear = node\n",
        "        self.size += 1\n",
        "\n",
        "    def popleft(self):\n",
        "        if self.size == 0:\n",
        "            return None\n",
        "        data = self.front.data # 맨 앞 노드\n",
        "        self.front = self.front.next # 두 번째 노드를 front로 지정\n",
        "        if self.front is None: # 삭제 후 노드가 하나도 없는 경우\n",
        "            self.rear = None\n",
        "        else:\n",
        "            self.front.prev = None # 두 번째 노드가 가리켰던 이전 노드(지운 첫 번째 노드)를 가리키는 포인터를 없앰\n",
        "        self.size -= 1\n",
        "        \n",
        "        return data\n",
        "    \n",
        "    def pop(self): # popleft와 대칭적인 구조\n",
        "        if self.size == 0:\n",
        "            return None\n",
        "        data = self.rear.data\n",
        "        self.rear = self.rear.prev\n",
        "        if self.rear is None:\n",
        "            self.front = None\n",
        "        else:\n",
        "            self.rear.next = None\n",
        "        self.size -= 1\n",
        "\n",
        "        return data\n",
        "\n",
        "    def front(self):\n",
        "        if self.size == 0:\n",
        "           return None\n",
        "        \n",
        "        return self.front.data\n",
        "    \n",
        "    def rear(self):\n",
        "        if self.size == 0:\n",
        "            return None\n",
        "        \n",
        "        return self.rear.data\n",
        "    \n",
        "    def show(self):\n",
        "        cur = self.front\n",
        "        while cur:\n",
        "          print(cur.data, end=\" \")\n",
        "          cur = cur.next"
      ],
      "metadata": {
        "id": "yQrbEyAvV0lo"
      },
      "execution_count": null,
      "outputs": []
    },
    {
      "cell_type": "code",
      "source": [
        "# 테스트\n",
        "d = Deque()\n",
        "arr = [5, 6, 7, 8]\n",
        "for x in arr:\n",
        "    d.append(x)\n",
        "arr = [4, 3, 2, 1]\n",
        "for x in arr:\n",
        "    d.appendleft(x)\n",
        "d.show()\n",
        "\n",
        "print()\n",
        "while d.size != 0:\n",
        "    print(d.popleft())\n",
        "\n",
        "arr = [1, 2, 3, 4, 5, 6, 7, 8]\n",
        "for x in arr:\n",
        "    d.appendleft(x)\n",
        "d.show()\n",
        "\n",
        "print()\n",
        "while True:\n",
        "    print(d.pop())\n",
        "    if d.size == 0:\n",
        "        break\n",
        "    print(d.popleft())\n",
        "    if d.size == 0:\n",
        "        break"
      ],
      "metadata": {
        "colab": {
          "base_uri": "https://localhost:8080/"
        },
        "id": "7pvk2kDLXSmX",
        "outputId": "785b22b7-4ebc-4775-f5fa-7ab76cc58ccf"
      },
      "execution_count": null,
      "outputs": [
        {
          "output_type": "stream",
          "name": "stdout",
          "text": [
            "1 2 3 4 5 6 7 8 \n",
            "1\n",
            "2\n",
            "3\n",
            "4\n",
            "5\n",
            "6\n",
            "7\n",
            "8\n",
            "8 7 6 5 4 3 2 1 \n",
            "1\n",
            "8\n",
            "2\n",
            "7\n",
            "3\n",
            "6\n",
            "4\n",
            "5\n"
          ]
        }
      ]
    }
  ]
}